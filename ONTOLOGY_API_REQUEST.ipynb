{
 "cells": [
  {
   "cell_type": "code",
   "execution_count": null,
   "metadata": {},
   "outputs": [],
   "source": [
    "js = {\"job_titles\":[],\"language\":{\"language\":language}}\n",
    "query = {}\n",
    "\n",
    "for i in range(len(titles)):\n",
    "    if titles[i][0] != \"\":\n",
    "        query.update({titles[i][0]:{\"startDate\":str(start_dates[i][0]),\"endDate\":str(end_dates[i][0])}})\n",
    "js.update({\"job_titles\":query})\n",
    "\n",
    "response = requests.post('http://127.0.0.1:5000/skills', json = js)\n",
    "skills_dict = json.loads(response.text)\n",
    "skills_dict\n"
   ]
  }
 ],
 "metadata": {
  "kernelspec": {
   "display_name": "Python 3",
   "language": "python",
   "name": "python3"
  },
  "language_info": {
   "codemirror_mode": {
    "name": "ipython",
    "version": 3
   },
   "file_extension": ".py",
   "mimetype": "text/x-python",
   "name": "python",
   "nbconvert_exporter": "python",
   "pygments_lexer": "ipython3",
   "version": "3.7.4"
  }
 },
 "nbformat": 4,
 "nbformat_minor": 2
}
