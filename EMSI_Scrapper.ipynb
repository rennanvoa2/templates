{
 "cells": [
  {
   "cell_type": "code",
   "execution_count": 1,
   "metadata": {},
   "outputs": [],
   "source": [
    "from selenium import webdriver\n",
    "from shutil import which\n",
    "from selenium.webdriver.chrome.options import Options\n",
    "import re\n",
    "from selenium.webdriver.common.keys import Keys\n",
    "import time\n",
    "import pandas as pd\n",
    "from tqdm import tqdm\n",
    "\n",
    "class EMSI_skills:\n",
    "    def open_driver(self,path, headless=False, incognito=True):\n",
    "        \n",
    "        #Open chrome driver\n",
    "        chrome_options = Options()\n",
    "        \n",
    "        #Headless mode\n",
    "        if headless==True:\n",
    "            chrome_options.add_argument(\"--headless\")\n",
    "            \n",
    "        #incognito mode\n",
    "        if incognito == True:\n",
    "            chrome_options.add_argument(\"--incognito\")\n",
    "        \n",
    "        #open the driver and go to linkedin login page\n",
    "        driver = webdriver.Chrome(executable_path=path, options=chrome_options)\n",
    "        driver.set_page_load_timeout(30)\n",
    "        return driver\n",
    "    \n",
    "    #Not used\n",
    "    def login(self, driver, login=\"\", password=\"\"):\n",
    "        login = \"rvaladares@neobrain.io\"\n",
    "        password = \"dsnblisboa2020\"\n",
    "        #Login on LinkedIn\n",
    "        driver.get(\"https://www.linkedin.com/uas/login?session_redirect=https%3A%2F%2Fwww%2Elinkedin%2Ecom%2Fsearch%2Fresults%2Fcompanies%2F%3Fkeywords%3DApple%3DGLOBAL_SEARCH_HEADER&amp;fromSignIn=true&amp;trk=cold_join_sign_in\")\n",
    "        driver.implicitly_wait(5)\n",
    "        #login\n",
    "        login_bt = driver.find_element_by_xpath('//input[@name=\"session_key\"]')\n",
    "        login_bt.send_keys(login)\n",
    "        #password\n",
    "        password_bt = driver.find_element_by_xpath('//input[@name=\"session_password\"]')\n",
    "        password_bt.send_keys(password)\n",
    "        send_button = driver.find_element_by_xpath('//div[@class=\"login__form_action_container \"]/button')\n",
    "        send_button.click()\n",
    "        \n",
    "        \n",
    "    def search_skills(self, job, driver):\n",
    "        #go to EMSI\n",
    "        driver.get('https://match.emsiskills.com/skills/job')\n",
    "        \n",
    "        time.sleep(5)\n",
    "        \n",
    "        # locate search bar\n",
    "        search_query = driver.find_element_by_xpath('//*[@id=\"skill-page-input\"]')\n",
    "\n",
    "        # Send the job title\n",
    "        search_query.send_keys(job)\n",
    "        \n",
    "        time.sleep(3)\n",
    "        \n",
    "        #Arrow down\n",
    "        search_query.send_keys(Keys.DOWN)\n",
    "        \n",
    "        time.sleep(3)\n",
    "\n",
    "        # .send_keys() to simulate the return key \n",
    "        search_query.send_keys(Keys.ENTER)\n",
    "        \n",
    "        time.sleep(3)\n",
    "        \n",
    "        \n",
    "        #Function to scrap the skills\n",
    "        def get_skills():\n",
    "            skills = []\n",
    "            skill_elements = driver.find_elements_by_xpath(\"//div[@class='sc-cZBZkQ ljywcD']\")\n",
    "\n",
    "            for element in skill_elements:\n",
    "                try:\n",
    "                    skills.append(element.text)\n",
    "                except Exception as e:\n",
    "                    print(e)\n",
    "            return skills\n",
    "                  \n",
    "        #List with all the skills\n",
    "        skills = []\n",
    "        \n",
    "        have_next_page = True\n",
    "        \n",
    "        while have_next_page:\n",
    "            time.sleep(3)\n",
    "            #next page button\n",
    "            next_button = driver.find_element_by_xpath(\"//button[@class='sc-ekulBa eDpOAz'][2]\")\n",
    "            \n",
    "            #if its enabled\n",
    "            if next_button.is_enabled():\n",
    "                #get the skills and append to the list\n",
    "                for j in get_skills():\n",
    "                    skills.append(j)\n",
    "                    \n",
    "                #click on next button\n",
    "                next_button.click()\n",
    "            \n",
    "            #if not enabled\n",
    "            else:\n",
    "                #get the skills and append to the list\n",
    "                for j in get_skills():\n",
    "                    skills.append(j)\n",
    "                    \n",
    "                #set button controller to false\n",
    "                have_next_page = False\n",
    "\n",
    "        return skills\n",
    "    \n",
    "    def get_job_titles(self, text, driver):\n",
    "        time.sleep(1)\n",
    "        #go to EMSI\n",
    "        driver.get('https://match.emsiskills.com/skills/job')\n",
    "        time.sleep(5)\n",
    "        input_jobtitle = driver.find_element_by_xpath('//*[@id=\"skill-page-input\"]')\n",
    "        time.sleep(2)\n",
    "        input_jobtitle.clear()\n",
    "        input_jobtitle.send_keys(text)\n",
    "        time.sleep(2)\n",
    "        job_list = driver.find_element_by_id(\"downshift-0-menu\").text\n",
    "        job_list = job_list.split(\"\\n\")\n",
    "        driver.close()\n",
    "        return job_list\n",
    "        "
   ]
  },
  {
   "cell_type": "code",
   "execution_count": 2,
   "metadata": {},
   "outputs": [],
   "source": [
    "#instanciate Company class\n",
    "emsi = EMSI_skills()"
   ]
  },
  {
   "cell_type": "code",
   "execution_count": 3,
   "metadata": {},
   "outputs": [],
   "source": [
    "alfabeto = [chr(x) for x in range(ord('a'), ord('z')+1)]"
   ]
  },
  {
   "cell_type": "code",
   "execution_count": null,
   "metadata": {},
   "outputs": [
    {
     "name": "stderr",
     "output_type": "stream",
     "text": [
      "  4%|▍         | 1/26 [00:33<13:48, 33.14s/it]"
     ]
    }
   ],
   "source": [
    "#With one letter\n",
    "problems = []\n",
    "job_titles = []\n",
    "for i in tqdm(alfabeto):\n",
    "    try:\n",
    "        driver = emsi.open_driver(path=\"driver/chromedriver\",headless=False,incognito=True)\n",
    "        for job in emsi.get_job_titles(i, driver):\n",
    "            job_titles.append(job)\n",
    "    except:\n",
    "        problems.append(i)"
   ]
  },
  {
   "cell_type": "code",
   "execution_count": null,
   "metadata": {},
   "outputs": [
    {
     "name": "stderr",
     "output_type": "stream",
     "text": [
      "\r",
      "  0%|          | 0/26 [00:00<?, ?it/s]"
     ]
    },
    {
     "name": "stdout",
     "output_type": "stream",
     "text": [
      "aa\n"
     ]
    }
   ],
   "source": [
    "#With two letters\n",
    "problems = []\n",
    "job_titles = []\n",
    "for i in tqdm(alfabeto):\n",
    "    for j in alfabeto:\n",
    "        try:\n",
    "            driver = emsi.open_driver(path=\"driver/chromedriver\",headless=False,incognito=True)\n",
    "            print(i+j)\n",
    "            job_titles.append(emsi.get_job_titles(i+j, driver))\n",
    "        except:\n",
    "            problems.append(i+j)"
   ]
  },
  {
   "cell_type": "code",
   "execution_count": 12,
   "metadata": {},
   "outputs": [
    {
     "ename": "NameError",
     "evalue": "name 'job_titles' is not defined",
     "output_type": "error",
     "traceback": [
      "\u001b[0;31m---------------------------------------------------------------------------\u001b[0m",
      "\u001b[0;31mNameError\u001b[0m                                 Traceback (most recent call last)",
      "\u001b[0;32m<ipython-input-12-ce79b7f9c87c>\u001b[0m in \u001b[0;36m<module>\u001b[0;34m\u001b[0m\n\u001b[1;32m      1\u001b[0m \u001b[0;32mimport\u001b[0m \u001b[0mpandas\u001b[0m \u001b[0;32mas\u001b[0m \u001b[0mpd\u001b[0m\u001b[0;34m\u001b[0m\u001b[0;34m\u001b[0m\u001b[0m\n\u001b[1;32m      2\u001b[0m \u001b[0mdf\u001b[0m \u001b[0;34m=\u001b[0m \u001b[0mpd\u001b[0m\u001b[0;34m.\u001b[0m\u001b[0mDataFrame\u001b[0m\u001b[0;34m(\u001b[0m\u001b[0;34m)\u001b[0m\u001b[0;34m\u001b[0m\u001b[0;34m\u001b[0m\u001b[0m\n\u001b[0;32m----> 3\u001b[0;31m \u001b[0mdf\u001b[0m\u001b[0;34m[\u001b[0m\u001b[0;34m\"titles\"\u001b[0m\u001b[0;34m]\u001b[0m \u001b[0;34m=\u001b[0m \u001b[0mjob_titles\u001b[0m\u001b[0;34m\u001b[0m\u001b[0;34m\u001b[0m\u001b[0m\n\u001b[0m\u001b[1;32m      4\u001b[0m \u001b[0mdf\u001b[0m\u001b[0;34m.\u001b[0m\u001b[0mto_csv\u001b[0m\u001b[0;34m(\u001b[0m\u001b[0;34m\"titles.csv.gz\"\u001b[0m\u001b[0;34m,\u001b[0m\u001b[0mindex\u001b[0m\u001b[0;34m=\u001b[0m\u001b[0;32mFalse\u001b[0m\u001b[0;34m,\u001b[0m\u001b[0mcompression\u001b[0m\u001b[0;34m=\u001b[0m\u001b[0;34m\"gzip\"\u001b[0m\u001b[0;34m)\u001b[0m\u001b[0;34m\u001b[0m\u001b[0;34m\u001b[0m\u001b[0m\n",
      "\u001b[0;31mNameError\u001b[0m: name 'job_titles' is not defined"
     ]
    }
   ],
   "source": [
    "import pandas as pd\n",
    "df = pd.DataFrame()\n",
    "df[\"titles\"] = job_titles\n",
    "df.to_pickle(\"jobs.pkl\")"
   ]
  },
  {
   "cell_type": "code",
   "execution_count": 56,
   "metadata": {},
   "outputs": [
    {
     "data": {
      "text/html": [
       "<div>\n",
       "<style scoped>\n",
       "    .dataframe tbody tr th:only-of-type {\n",
       "        vertical-align: middle;\n",
       "    }\n",
       "\n",
       "    .dataframe tbody tr th {\n",
       "        vertical-align: top;\n",
       "    }\n",
       "\n",
       "    .dataframe thead th {\n",
       "        text-align: right;\n",
       "    }\n",
       "</style>\n",
       "<table border=\"1\" class=\"dataframe\">\n",
       "  <thead>\n",
       "    <tr style=\"text-align: right;\">\n",
       "      <th></th>\n",
       "      <th>titles</th>\n",
       "    </tr>\n",
       "  </thead>\n",
       "  <tbody>\n",
       "    <tr>\n",
       "      <td>0</td>\n",
       "      <td>Academic Advisor</td>\n",
       "    </tr>\n",
       "    <tr>\n",
       "      <td>1</td>\n",
       "      <td>Account Administrator</td>\n",
       "    </tr>\n",
       "    <tr>\n",
       "      <td>2</td>\n",
       "      <td>Academic Affairs Specialist</td>\n",
       "    </tr>\n",
       "    <tr>\n",
       "      <td>3</td>\n",
       "      <td>Abstractor</td>\n",
       "    </tr>\n",
       "    <tr>\n",
       "      <td>4</td>\n",
       "      <td>Accompanist</td>\n",
       "    </tr>\n",
       "    <tr>\n",
       "      <td>...</td>\n",
       "      <td>...</td>\n",
       "    </tr>\n",
       "    <tr>\n",
       "      <td>449</td>\n",
       "      <td>Transportation Manager (Management)</td>\n",
       "    </tr>\n",
       "    <tr>\n",
       "      <td>450</td>\n",
       "      <td>Payroll Manager (Management)</td>\n",
       "    </tr>\n",
       "    <tr>\n",
       "      <td>451</td>\n",
       "      <td>Medical Center Manager</td>\n",
       "    </tr>\n",
       "    <tr>\n",
       "      <td>452</td>\n",
       "      <td>Laboratory Manager (Management)</td>\n",
       "    </tr>\n",
       "    <tr>\n",
       "      <td>453</td>\n",
       "      <td>Fitness Manager (Management)</td>\n",
       "    </tr>\n",
       "  </tbody>\n",
       "</table>\n",
       "<p>454 rows × 1 columns</p>\n",
       "</div>"
      ],
      "text/plain": [
       "                                   titles\n",
       "0                        Academic Advisor\n",
       "1                   Account Administrator\n",
       "2             Academic Affairs Specialist\n",
       "3                              Abstractor\n",
       "4                             Accompanist\n",
       "..                                    ...\n",
       "449   Transportation Manager (Management)\n",
       "450          Payroll Manager (Management)\n",
       "451                Medical Center Manager\n",
       "452       Laboratory Manager (Management)\n",
       "453          Fitness Manager (Management)\n",
       "\n",
       "[454 rows x 1 columns]"
      ]
     },
     "execution_count": 56,
     "metadata": {},
     "output_type": "execute_result"
    }
   ],
   "source": [
    "df = pd.read_pickle(\"jobs.pkl\")\n",
    "df"
   ]
  },
  {
   "cell_type": "code",
   "execution_count": null,
   "metadata": {},
   "outputs": [
    {
     "name": "stderr",
     "output_type": "stream",
     "text": [
      "\n",
      "  0%|          | 0/454 [00:00<?, ?it/s]\u001b[A"
     ]
    }
   ],
   "source": [
    "driver = emsi.open_driver(path=\"driver/chromedriver\",headless=False,incognito=False)\n",
    "job = []\n",
    "skills_list = []\n",
    "\n",
    "for i in tqdm(df[\"titles\"]):\n",
    "    job.append(i)\n",
    "    skills_list.append(emsi.search_skills(i,driver))\n",
    "    \n",
    "    "
   ]
  },
  {
   "cell_type": "code",
   "execution_count": null,
   "metadata": {},
   "outputs": [],
   "source": []
  }
 ],
 "metadata": {
  "kernelspec": {
   "display_name": "Python 3",
   "language": "python",
   "name": "python3"
  },
  "language_info": {
   "codemirror_mode": {
    "name": "ipython",
    "version": 3
   },
   "file_extension": ".py",
   "mimetype": "text/x-python",
   "name": "python",
   "nbconvert_exporter": "python",
   "pygments_lexer": "ipython3",
   "version": "3.7.4"
  }
 },
 "nbformat": 4,
 "nbformat_minor": 4
}
