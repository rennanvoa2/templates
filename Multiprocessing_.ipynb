{
 "cells": [
  {
   "cell_type": "code",
   "execution_count": null,
   "metadata": {},
   "outputs": [],
   "source": [
    "df = pd.read_pickle(\"emsi_ontology_complete.pkl\")"
   ]
  },
  {
   "cell_type": "markdown",
   "metadata": {},
   "source": [
    "### Codigo que funciona"
   ]
  },
  {
   "cell_type": "code",
   "execution_count": null,
   "metadata": {},
   "outputs": [],
   "source": [
    "import time\n",
    "#nlp =spacy.load(\"en_core_web_md\")\n",
    "start_time = time.time()\n",
    "doc1 = nlp(str(\"Data Scientist\"))\n",
    "\n",
    "\n",
    "def get_paralel_similarity(item):\n",
    "    return doc1.similarity(nlp(item))\n",
    "\n",
    "if __name__ == '__main__':\n",
    "    pool = Pool()                         # Create a multiprocessing Pool\n",
    "    similarities = pool.map(get_paralel_similarity, list(df[\"jobs\"])) \n",
    "print(\"--- %s seconds ---\" % (time.time() - start_time))"
   ]
  },
  {
   "cell_type": "code",
   "execution_count": null,
   "metadata": {},
   "outputs": [],
   "source": [
    "similarities[:5]"
   ]
  },
  {
   "cell_type": "markdown",
   "metadata": {},
   "source": [
    "### Classe que não functiona"
   ]
  },
  {
   "cell_type": "code",
   "execution_count": null,
   "metadata": {},
   "outputs": [],
   "source": [
    "import time\n",
    "import spacy\n",
    "import warnings\n",
    "import operator\n",
    "from multiprocessing import Pool, set_start_method\n",
    "from functools import partial\n",
    "from tqdm import tqdm\n",
    "\n",
    "warnings.filterwarnings(\"ignore\")\n",
    "nlp =spacy.load(\"en_core_web_md\")\n",
    "\n",
    "def get_paralel_similarity(tup):\n",
    "    #doc1 = tup[0]\n",
    "    return tup[0].similarity(nlp(tup[1]))\n",
    "    \n",
    "class Matcher(object):\n",
    "    def __init__(self,**kwargs):\n",
    "        self.word = kwargs.get('word')\n",
    "        self.word_list = kwargs.get('word_list')\n",
    "        self.n = kwargs.get('n')\n",
    "        self.nlp = kwargs.get('nlp')\n",
    "        \n",
    "    def get_top_similarities(self):\n",
    "        pool = Pool()  \n",
    "        similarities = {}\n",
    "        doc1 = nlp(str(self.word))\n",
    "        tup_list = []\n",
    "        for i in tqdm(self.word_list):\n",
    "            tup_list.append((doc1,i))\n",
    "\n",
    "        start_time = time.time()\n",
    "        similarities = pool.map(get_paralel_similarity, tup_list)\n",
    "        pool.close()\n",
    "        #pool.join()\n",
    "        print(\"--- %s seconds ---\" % (time.time() - start_time))\n",
    "        simi = {}\n",
    "        for i in tqdm(range(len(self.word_list))):\n",
    "            simi[self.word_list[i]] = similarities[i]\n",
    "        return sorted(simi.items(),key=operator.itemgetter(1),reverse=True)[:self.n]   \n"
   ]
  },
  {
   "cell_type": "code",
   "execution_count": null,
   "metadata": {},
   "outputs": [],
   "source": [
    "similarities = matcher.get_top_similarities()\n",
    "similarities[:5]"
   ]
  }
 ],
 "metadata": {
  "kernelspec": {
   "display_name": "Python 3",
   "language": "python",
   "name": "python3"
  },
  "language_info": {
   "codemirror_mode": {
    "name": "ipython",
    "version": 3
   },
   "file_extension": ".py",
   "mimetype": "text/x-python",
   "name": "python",
   "nbconvert_exporter": "python",
   "pygments_lexer": "ipython3",
   "version": "3.7.4"
  }
 },
 "nbformat": 4,
 "nbformat_minor": 2
}
