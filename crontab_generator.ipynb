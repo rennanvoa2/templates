{
 "cells": [
  {
   "cell_type": "markdown",
   "metadata": {},
   "source": [
    "# Crontab Generator"
   ]
  },
  {
   "cell_type": "code",
   "execution_count": 19,
   "metadata": {},
   "outputs": [
    {
     "name": "stdout",
     "output_type": "stream",
     "text": [
      "00 00 2 8 * cd /home/projects/skiller/src/collector && python3 run_indeed.py french_217 fr --location=France\n",
      "00 01 2 8 * cd /home/projects/skiller/src/collector && python3 run_indeed.py french_218 fr --location=France\n",
      "00 02 2 8 * cd /home/projects/skiller/src/collector && python3 run_indeed.py french_219 fr --location=France\n",
      "00 03 2 8 * cd /home/projects/skiller/src/collector && python3 run_indeed.py french_220 fr --location=France\n",
      "00 04 2 8 * cd /home/projects/skiller/src/collector && python3 run_indeed.py french_221 fr --location=France\n",
      "00 05 2 8 * cd /home/projects/skiller/src/collector && python3 run_indeed.py french_222 fr --location=France\n",
      "00 06 2 8 * cd /home/projects/skiller/src/collector && python3 run_indeed.py french_223 fr --location=France\n",
      "00 07 2 8 * cd /home/projects/skiller/src/collector && python3 run_indeed.py french_224 fr --location=France\n",
      "00 08 2 8 * cd /home/projects/skiller/src/collector && python3 run_indeed.py french_225 fr --location=France\n",
      "00 09 2 8 * cd /home/projects/skiller/src/collector && python3 run_indeed.py french_226 fr --location=France\n",
      "00 10 2 8 * cd /home/projects/skiller/src/collector && python3 run_indeed.py french_227 fr --location=France\n",
      "00 11 2 8 * cd /home/projects/skiller/src/collector && python3 run_indeed.py french_228 fr --location=France\n",
      "00 12 2 8 * cd /home/projects/skiller/src/collector && python3 run_indeed.py french_229 fr --location=France\n",
      "00 13 2 8 * cd /home/projects/skiller/src/collector && python3 run_indeed.py french_230 fr --location=France\n",
      "00 14 2 8 * cd /home/projects/skiller/src/collector && python3 run_indeed.py french_231 fr --location=France\n",
      "00 15 2 8 * cd /home/projects/skiller/src/collector && python3 run_indeed.py french_232 fr --location=France\n",
      "00 16 2 8 * cd /home/projects/skiller/src/collector && python3 run_indeed.py french_233 fr --location=France\n",
      "00 17 2 8 * cd /home/projects/skiller/src/collector && python3 run_indeed.py french_234 fr --location=France\n",
      "00 18 2 8 * cd /home/projects/skiller/src/collector && python3 run_indeed.py french_235 fr --location=France\n",
      "00 19 2 8 * cd /home/projects/skiller/src/collector && python3 run_indeed.py french_236 fr --location=France\n",
      "00 20 2 8 * cd /home/projects/skiller/src/collector && python3 run_indeed.py french_237 fr --location=France\n",
      "00 21 2 8 * cd /home/projects/skiller/src/collector && python3 run_indeed.py french_238 fr --location=France\n",
      "00 22 2 8 * cd /home/projects/skiller/src/collector && python3 run_indeed.py french_239 fr --location=France\n",
      "00 23 2 8 * cd /home/projects/skiller/src/collector && python3 run_indeed.py french_240 fr --location=France\n"
     ]
    }
   ],
   "source": [
    "day = 2\n",
    "month = 8\n",
    "hr_count = 0\n",
    "hr = \"00\"\n",
    "minutes = \"00\"\n",
    "list_nr = 217\n",
    "controller = 0\n",
    "program_name = \"indeed\"\n",
    "\n",
    "while list_nr < 345:\n",
    "    if hr_count == 24:\n",
    "        break\n",
    "    if program_name == \"indeed\":\n",
    "        string = minutes + \" \"+ hr + \" \" + str(day) +\" \" + str(month) + \" *\" + \" cd /home/projects/skiller/src/collector && python3 run_\"+program_name+\".py french_\" +str(list_nr) + \" \"+ \"fr\" + \" \" +\"--location=France\"\n",
    "    else:\n",
    "        string = minutes + \" \"+ hr + \" \" + str(day) +\" \" + str(month) + \" *\" + \" cd /home/projects/skiller/src/collector && python3 run_\"+program_name+\".py french_\" +str(list_nr)\n",
    "\n",
    "    with open(\"/Users/gadgethub/Neobrain_Projects/crontab.txt\", \"a\") as myfile:\n",
    "        myfile.write(string)\n",
    "        myfile.write(\"\\n\")\n",
    "    \n",
    "    print(string)\n",
    "    controller += 60\n",
    "\n",
    "    hr_count = int(controller/60)\n",
    "\n",
    "   \n",
    "    #Hour\n",
    "    if len(str(controller%60)) < 2:\n",
    "        minutes = \"0\"+str(controller%60)\n",
    "    else:\n",
    "        minutes= str(controller%60)    \n",
    "       \n",
    "    #Hour\n",
    "    if len(str(hr_count)) < 2:\n",
    "        hr = \"0\"+str(hr_count)\n",
    "    else:\n",
    "        hr= str(hr_count)\n",
    "    \n",
    "    list_nr += 1"
   ]
  },
  {
   "cell_type": "code",
   "execution_count": null,
   "metadata": {},
   "outputs": [],
   "source": []
  }
 ],
 "metadata": {
  "kernelspec": {
   "display_name": "Python 3",
   "language": "python",
   "name": "python3"
  },
  "language_info": {
   "codemirror_mode": {
    "name": "ipython",
    "version": 3
   },
   "file_extension": ".py",
   "mimetype": "text/x-python",
   "name": "python",
   "nbconvert_exporter": "python",
   "pygments_lexer": "ipython3",
   "version": "3.7.4"
  }
 },
 "nbformat": 4,
 "nbformat_minor": 2
}
