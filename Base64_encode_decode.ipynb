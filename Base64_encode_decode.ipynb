{
 "cells": [
  {
   "cell_type": "code",
   "execution_count": 44,
   "metadata": {},
   "outputs": [],
   "source": [
    "import base64\n",
    "\n",
    "        \n",
    "def encode_to_b64(path):\n",
    "    #Read the file\n",
    "    b64 = open(path, \"rb\").read()\n",
    "\n",
    "    #Convert bytes to UTF-8\n",
    "    message_bytes = str(b64).encode(\"UTF-8\")\n",
    "    \n",
    "    #Encode to base 64\n",
    "    base64_bytes = base64.b64encode(message_bytes)\n",
    "\n",
    "    #Transform into ascii message\n",
    "    base64_message = base64_bytes.decode(\"UTF-8\")\n",
    "    \n",
    "    return base64_message\n",
    "\n",
    "def decode_b64(b64_message):\n",
    "    #Convert from b64 message to bytes\n",
    "    base64_bytes = b64_message.encode(\"UTF-8\")\n",
    "    \n",
    "    #Decode to bytes\n",
    "    message_bytes = base64.b64decode(base64_bytes)\n",
    "    \n",
    "    #Convert to string\n",
    "    message = message_bytes.decode(\"UTF-8\")\n",
    "\n",
    "    return message"
   ]
  },
  {
   "cell_type": "code",
   "execution_count": 45,
   "metadata": {},
   "outputs": [],
   "source": [
    "x = encode_to_b64(\"/Users/gadgethub/Downloads/Profile.pdf\")"
   ]
  },
  {
   "cell_type": "code",
   "execution_count": null,
   "metadata": {},
   "outputs": [],
   "source": []
  }
 ],
 "metadata": {
  "kernelspec": {
   "display_name": "Python 3",
   "language": "python",
   "name": "python3"
  },
  "language_info": {
   "codemirror_mode": {
    "name": "ipython",
    "version": 3
   },
   "file_extension": ".py",
   "mimetype": "text/x-python",
   "name": "python",
   "nbconvert_exporter": "python",
   "pygments_lexer": "ipython3",
   "version": "3.7.4"
  }
 },
 "nbformat": 4,
 "nbformat_minor": 2
}
